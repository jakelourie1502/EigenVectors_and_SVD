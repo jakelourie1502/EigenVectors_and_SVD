{
 "cells": [
  {
   "cell_type": "code",
   "execution_count": 110,
   "metadata": {},
   "outputs": [],
   "source": [
    "import numpy as np \n",
    "import pandas as pd \n",
    "import matplotlib.pyplot as plt \n",
    "import seaborn as sns\n",
    "import tensorflow as tf\n",
    "from sklearn.preprocessing import OneHotEncoder\n",
    "import plotly\n",
    "import plotly.graph_objects as go\n",
    "import plotly.express as px\n",
    "import datetime\n",
    "from PIL import Image\n",
    "import pandas as pd\n",
    "from sklearn.model_selection import train_test_split\n",
    "import os\n",
    "import warnings\n",
    "warnings.filterwarnings('ignore')\n",
    "from torchsummary import summary\n",
    "import torch\n",
    "import torchmetrics\n",
    "from torch.utils.data import DataLoader, Dataset, TensorDataset\n",
    "import time"
   ]
  },
  {
   "cell_type": "markdown",
   "metadata": {},
   "source": [
    "---\n",
    "#### Effect of Principal Components Analysis on Classification Performance of MNIST\n",
    "\n",
    "In this notebook, we use a simple Torch model to classify MNIST digits. We then apply principle components analysis to see how well the model can classify the reduced dimension feature representations.\n",
    "\n",
    "We are going to reduce the dimensionality of our dataset(currently 28 x 28 x 1) by using eigenvectors. This will allow us to capture the most important variations between images. We will then see if we can apply just this reduced number of dimensions to a neural net and gain a similar performance level to that which we achieved with a ResNet on the full images (~85%)\n",
    "\n",
    "Steps: \n",
    "\n",
    "1- Flatten arrays \n",
    "\n",
    "2- normalize data across each dimension\n",
    "\n",
    "3- Compute N eigenvectors and the covariance matrix\n",
    "\n",
    "\n",
    "4- Project images onto eigenspace using projection matrix:  \n",
    "\n",
    "- projection = B @ (B.T@B)^-1 @ B.T } \n",
    "\n",
    "where B is new basis. B.T@B will be the identity matrix if the eigenvectors are normalised, so it would just become:\n",
    "\n",
    "- projection = B @ B.T\n",
    "\n",
    "We will experiment with various choices of N, but 50 is a good place to start"
   ]
  },
  {
   "cell_type": "markdown",
   "metadata": {},
   "source": [
    "---\n",
    "Section 1: Load the data and create dataloaders to process batches of data"
   ]
  },
  {
   "cell_type": "code",
   "execution_count": 4,
   "metadata": {},
   "outputs": [],
   "source": [
    "mnist = tf.keras.datasets.mnist\n",
    "(x_train, y_train), (x_test, y_test) = mnist.load_data()"
   ]
  },
  {
   "cell_type": "code",
   "execution_count": 128,
   "metadata": {},
   "outputs": [],
   "source": [
    "x = x_train\n",
    "y = y_train"
   ]
  },
  {
   "cell_type": "code",
   "execution_count": 129,
   "metadata": {},
   "outputs": [],
   "source": [
    "x_flat = x.reshape(x.shape[0],-1)\n",
    "x_flat = (x_flat/255)"
   ]
  },
  {
   "cell_type": "code",
   "execution_count": 7,
   "metadata": {},
   "outputs": [],
   "source": [
    "#get data into a data object and then create the batches\n",
    "def create_dataloaders(x,y,batch_size):\n",
    "    tensor_x = torch.Tensor(x) # transform to torch tensor\n",
    "    tensor_y = torch.Tensor(y)\n",
    "    my_dataset = TensorDataset(tensor_x,tensor_y)\n",
    "    train_data, val_data = torch.utils.data.random_split(my_dataset, [int(0.8*len(y)), len(y)-int(0.8*len(y))])\n",
    "    train_dataloader = DataLoader(train_data,batch_size=batch_size)\n",
    "    val_dataloader = DataLoader(val_data,batch_size=batch_size) \n",
    "    return train_dataloader, val_dataloader\n"
   ]
  },
  {
   "cell_type": "markdown",
   "metadata": {},
   "source": [
    "---\n",
    "#### Section 2 - Creating a model and training structure\n",
    "\n",
    "We'll create the a residuals model using torch nn module; Then create train and validation systems using Adam optimizer and CrossEntropy Loss"
   ]
  },
  {
   "cell_type": "code",
   "execution_count": 150,
   "metadata": {},
   "outputs": [],
   "source": [
    "#create sequential model\n",
    "class seven_layer_model(torch.nn.Module):\n",
    "    \"\"\"don't think we need to do super() because we aren't doing a separate init\"\"\"\n",
    "    def __init__(self,inputdim=50):\n",
    "        super().__init__()\n",
    "        self.tanh = torch.nn.Tanh()\n",
    "        self.batch1 = torch.nn.BatchNorm1d(100)\n",
    "        self.batch2 = torch.nn.BatchNorm1d(100)\n",
    "        self.batch3 = torch.nn.BatchNorm1d(100)\n",
    "        self.batch4 = torch.nn.BatchNorm1d(100)\n",
    "\n",
    "        self.layer1 = torch.nn.Linear(inputdim,100)\n",
    "        self.layer2 = torch.nn.Linear(100,100)\n",
    "        self.layer3 = torch.nn.Linear(100,100)\n",
    "        self.layer4 = torch.nn.Linear(100,100)\n",
    "        \n",
    "        self.layer5 = torch.nn.Linear(100,10)        \n",
    "        self.softmax = torch.nn.Softmax(dim=1)\n",
    "        for layer in self.parameters():\n",
    "            if layer == torch.nn.Linear:\n",
    "                torch.nn.init.xavier_uniform(layer.weight)\n",
    "\n",
    "    def forward(self,x):\n",
    "        x = self.layer1(x)\n",
    "        x = self.tanh(x)\n",
    "        x = self.batch1(x)\n",
    "        x2 = self.layer2(x)\n",
    "        x2 = self.tanh(x)\n",
    "        x2 = self.batch2(x)\n",
    "        x3 = self.batch3(self.tanh(self.layer3(x)))\n",
    "        x4 = self.batch4(x2 + self.tanh(self.layer4(x)))\n",
    "        x5 = self.layer5(x4)\n",
    "        output = self.softmax(x5)\n",
    "        return output\n",
    "\n",
    "\n",
    "#create forward pass and backward pass\n",
    "def train_step(model, dataloader, criterion,optimizer, accuracy_metric, printy=True):\n",
    "    model.train()\n",
    "    for x,y in dataloader:\n",
    "        outputs = model(x)\n",
    "        y = y.long()\n",
    "        loss = criterion(outputs,y)\n",
    "        loss.backward()\n",
    "        optimizer.step()\n",
    "        optimizer.zero_grad()\n",
    "        predictions = torch.argmax(outputs,axis=-1)\n",
    "        accuracy_metric(outputs,y)\n",
    "\n",
    "    acc = accuracy_metric.compute()\n",
    "\n",
    "    if printy:\n",
    "        print('Train Accuracy: ', acc)\n",
    "    accuracy_metric.reset()\n",
    "\n",
    "def val_step(model, dataloader,accuracy_metric):\n",
    "    model.eval()\n",
    "    with torch.no_grad():\n",
    "        for x,y in dataloader:\n",
    "            outputs = model(x)\n",
    "            y = y.long()\n",
    "            predictions = torch.argmax(outputs,axis=-1)\n",
    "\n",
    "            accuracy_metric(outputs,y)\n",
    "\n",
    "        acc = accuracy_metric.compute()\n",
    "    print('Val Accuracy: ', acc)\n",
    "    accuracy_metric.reset()\n",
    "def train_model(model,train_dataloader,val_dataloader, criterion, optimizer, accuracy_metric, epochs,progress=True):\n",
    "    for epoch in range(epochs):\n",
    "        \n",
    "        if progress==True and epoch in np.geomspace(1,41,10).astype('int'):\n",
    "            print(f'epoch: {epoch}')\n",
    "            train_step(model,train_dataloader, criterion, optimizer, accuracy_metric)\n",
    "            val_step(model, val_dataloader,accuracy_metric)\n",
    "        else:\n",
    "            train_step(model,train_dataloader,criterion, optimizer, accuracy_metric,printy=False)\n",
    "    print(f'End of Model results after {epoch} epochs:')\n",
    "    train_step(model,train_dataloader, criterion, optimizer, accuracy_metric)    \n",
    "    val_step(model, val_dataloader,accuracy_metric)"
   ]
  },
  {
   "cell_type": "code",
   "execution_count": 140,
   "metadata": {},
   "outputs": [
    {
     "data": {
      "text/plain": [
       "(60000, 784)"
      ]
     },
     "execution_count": 140,
     "metadata": {},
     "output_type": "execute_result"
    }
   ],
   "source": [
    "x_flat.shape"
   ]
  },
  {
   "cell_type": "code",
   "execution_count": 141,
   "metadata": {},
   "outputs": [],
   "source": [
    "train_dataloader, val_dataloader = create_dataloaders(x_flat, y, 200)\n",
    "#define metrics.\n",
    "accuracy_metric = torchmetrics.Accuracy()\n",
    "\n",
    "pre_eig_model = seven_layer_model(inputdim=x_flat.shape[1])\n",
    "\n",
    "#create optimizer - which includes the model as a parameter\n",
    "optimizer = torch.optim.Adam(pre_eig_model.parameters())\n",
    "\n",
    "#create criterion\n",
    "criterion = torch.nn.CrossEntropyLoss()"
   ]
  },
  {
   "cell_type": "code",
   "execution_count": 151,
   "metadata": {},
   "outputs": [
    {
     "name": "stdout",
     "output_type": "stream",
     "text": [
      "epoch: 1\n",
      "Train Accuracy:  tensor(0.9967)\n",
      "Val Accuracy:  tensor(0.9755)\n",
      "epoch: 2\n",
      "Train Accuracy:  tensor(0.9967)\n",
      "Val Accuracy:  tensor(0.9762)\n",
      "epoch: 3\n",
      "Train Accuracy:  tensor(0.9965)\n",
      "Val Accuracy:  tensor(0.9753)\n",
      "epoch: 5\n",
      "Train Accuracy:  tensor(0.9967)\n",
      "Val Accuracy:  tensor(0.9759)\n",
      "epoch: 7\n",
      "Train Accuracy:  tensor(0.9969)\n",
      "Val Accuracy:  tensor(0.9752)\n",
      "epoch: 11\n",
      "Train Accuracy:  tensor(0.9967)\n",
      "Val Accuracy:  tensor(0.9776)\n",
      "epoch: 17\n",
      "Train Accuracy:  tensor(0.9956)\n",
      "Val Accuracy:  tensor(0.9759)\n",
      "epoch: 27\n",
      "Train Accuracy:  tensor(0.9966)\n",
      "Val Accuracy:  tensor(0.9753)\n",
      "epoch: 40\n",
      "Train Accuracy:  tensor(0.9970)\n",
      "Val Accuracy:  tensor(0.9761)\n",
      "End of Model results after 40 epochs:\n",
      "Train Accuracy:  tensor(0.9970)\n",
      "Val Accuracy:  tensor(0.9763)\n",
      "This took 85 second to train 40 epochs\n"
     ]
    }
   ],
   "source": [
    "time_ = time.time()\n",
    "train_model(pre_eig_model, train_dataloader, val_dataloader, criterion, optimizer, accuracy_metric, epochs=41)\n",
    "print(f'This took {int(time.time()-time_)} second to train 40 epochs')"
   ]
  },
  {
   "cell_type": "markdown",
   "metadata": {},
   "source": [
    "---\n",
    "\n",
    "#### Section 3 - projecting the original data onto a lower dimensions subspace\n",
    "\n",
    "OK, so we are achieving 98% accuracy with a simple 5 layer neural network with batch norm.\n",
    "\n",
    "Now let's perform eigendecomposition and see if a reduced set of features can give us the same"
   ]
  },
  {
   "cell_type": "code",
   "execution_count": 143,
   "metadata": {},
   "outputs": [],
   "source": [
    "def create_eigs(x):\n",
    "    #normalize data\n",
    "    def normalize_data(x):\n",
    "        x = x.reshape(x.shape[0],-1)\n",
    "        mean, var = np.mean(x,axis=0), np.var(x,axis=0)\n",
    "        x = (x-mean)/np.sqrt(var+1e-7)\n",
    "        return x\n",
    "    \n",
    "    x = normalize_data(x)\n",
    "\n",
    "    def create_eigenvectors(x):\n",
    "        cov_matrix = np.cov(x,rowvar=False)\n",
    "        eig_val, eig_vec = np.linalg.eig(cov_matrix)\n",
    "        return eig_val, eig_vec, cov_matrix\n",
    "       \n",
    "    eig_val,eig_vec, cov_matrix = create_eigenvectors(x)\n",
    "    return eig_val, eig_vec, cov_matrix\n",
    "\n",
    "def project_X(eig_vec,x,eigs):\n",
    "    prin_eig_vec, prin_eig_val = eig_vec[:,:eigs], eig_val[:eigs]\n",
    "    P = prin_eig_vec @ prin_eig_vec.T\n",
    "\n",
    "    #project onto all prev_dims\n",
    "    projection_prev_dims = (P @ x.T).T\n",
    "    #project in terms of new dims\n",
    "    projection_eig_dims = x @ prin_eig_vec\n",
    "    return projection_eig_dims, projection_prev_dims, P"
   ]
  },
  {
   "cell_type": "code",
   "execution_count": 144,
   "metadata": {},
   "outputs": [
    {
     "data": {
      "text/plain": [
       "(784, 784)"
      ]
     },
     "execution_count": 144,
     "metadata": {},
     "output_type": "execute_result"
    }
   ],
   "source": [
    "cov_matrix.shape"
   ]
  },
  {
   "cell_type": "code",
   "execution_count": 145,
   "metadata": {},
   "outputs": [],
   "source": [
    "eig_val, eig_vec, cov_matrix = create_eigs(x_flat)\n",
    "projection_eig_dims, projection_prev_dims, P = project_X(eig_vec, x_flat, 50)\n",
    "projection_eig_dims = projection_eig_dims / 255"
   ]
  },
  {
   "cell_type": "code",
   "execution_count": 146,
   "metadata": {},
   "outputs": [
    {
     "name": "stdout",
     "output_type": "stream",
     "text": [
      "Projection matrix is of shape: (784, 784)\n",
      "Dimensions of projected values on old space: (60000, 784)\n",
      "projection in terms of eigenbases: (60000, 50)\n"
     ]
    }
   ],
   "source": [
    "print(f'Projection matrix is of shape: {P.shape}\\nDimensions of projected values on old space: {projection_prev_dims.shape}\\nprojection in terms of eigenbases: {projection_eig_dims.shape}')"
   ]
  },
  {
   "cell_type": "markdown",
   "metadata": {},
   "source": [
    "---\n",
    "#### Viewing the projected images\n",
    "\n",
    "What does a projection 'look' like?"
   ]
  },
  {
   "cell_type": "code",
   "execution_count": 81,
   "metadata": {},
   "outputs": [
    {
     "data": {
      "image/png": "[encoded data removed]",
      "text/plain": [
       "<Figure size 432x288 with 2 Axes>"
      ]
     },
     "metadata": {
      "needs_background": "light"
     },
     "output_type": "display_data"
    }
   ],
   "source": [
    "example = 100\n",
    "fig, axlist = plt.subplots(nrows=1,ncols=2)\n",
    "axlist[0].imshow(x_train_part[example],cmap='gray'); \n",
    "axlist[1].imshow(1*projection_prev_dims[example].astype(float).reshape(28,28),cmap='gray'); plt.show()"
   ]
  },
  {
   "cell_type": "markdown",
   "metadata": {},
   "source": [
    "--- \n",
    "The eigenbases also don't look like much"
   ]
  },
  {
   "cell_type": "code",
   "execution_count": 82,
   "metadata": {},
   "outputs": [
    {
     "data": {
      "text/plain": [
       "<matplotlib.image.AxesImage at 0x7fcb77ee1400>"
      ]
     },
     "execution_count": 82,
     "metadata": {},
     "output_type": "execute_result"
    },
    {
     "data": {
      "image/png": "[encoded data removed]",
      "text/plain": [
       "<Figure size 432x288 with 1 Axes>"
      ]
     },
     "metadata": {
      "needs_background": "light"
     },
     "output_type": "display_data"
    }
   ],
   "source": [
    "#scaled up eigenvectors\n",
    "plt.imshow(100*prin_eig_vec[:,5].astype(float).reshape(28,28),cmap='gray')"
   ]
  },
  {
   "cell_type": "markdown",
   "metadata": {},
   "source": [
    "----\n",
    "\n",
    "#### Running the same model with lower dimensional dataset\n",
    "\n",
    "So now let's create a dataset which is the projection of the X values into the top 50 eigenbases (note, all the relevant info is contained in the array with just 50 columns), and see how this performs in our dense network"
   ]
  },
  {
   "cell_type": "code",
   "execution_count": 153,
   "metadata": {},
   "outputs": [],
   "source": [
    "#dataset\n",
    "train_data_eig, val_data_eig = create_dataloaders(projection_eig_dims, y,batch_size=200)\n",
    "#create model with new inputdim\n",
    "eigenmodel_50 = seven_layer_model(inputdim=projection_eig_dims.shape[1])\n",
    "\n",
    "#create optimizer linked to this model\n",
    "optimizer_eig = torch.optim.Adam(eigenmodel_50.parameters())"
   ]
  },
  {
   "cell_type": "code",
   "execution_count": 154,
   "metadata": {},
   "outputs": [
    {
     "name": "stdout",
     "output_type": "stream",
     "text": [
      "End of Model results after 40 epochs:\n",
      "Train Accuracy:  tensor(0.9951)\n",
      "Val Accuracy:  tensor(0.9776)\n",
      "This took 69 second to train 40 epochs\n"
     ]
    }
   ],
   "source": [
    "time_ = time.time()\n",
    "train_model(eigenmodel_50,train_data_eig, val_data_eig, criterion, optimizer_eig, accuracy_metric, epochs=41,progress=False)\n",
    "print(f'This took {int(time.time()-time_)} second to train 40 epochs')"
   ]
  },
  {
   "cell_type": "markdown",
   "metadata": {},
   "source": [
    "---\n",
    "#### Testing different number of eigenvectors\n",
    "\n",
    "We aren't able to achieve quite as strong performance when we have only 50 dimensions. Let's see what happens if we try more / less eigenvectors"
   ]
  },
  {
   "cell_type": "code",
   "execution_count": 152,
   "metadata": {},
   "outputs": [
    {
     "name": "stdout",
     "output_type": "stream",
     "text": [
      "\n",
      "Trying 1 eigenbases:\n",
      "x has shape (60000, 1)\n",
      "End of Model results after 40 epochs:\n",
      "Train Accuracy:  tensor(0.3044)\n",
      "Val Accuracy:  tensor(0.3080)\n",
      "This took 41 second to train\n",
      "\n",
      "Trying 2 eigenbases:\n",
      "x has shape (60000, 2)\n",
      "End of Model results after 40 epochs:\n",
      "Train Accuracy:  tensor(0.3758)\n",
      "Val Accuracy:  tensor(0.3732)\n",
      "This took 43 second to train\n",
      "\n",
      "Trying 5 eigenbases:\n",
      "x has shape (60000, 5)\n",
      "End of Model results after 40 epochs:\n",
      "Train Accuracy:  tensor(0.7737)\n",
      "Val Accuracy:  tensor(0.7584)\n",
      "This took 41 second to train\n",
      "\n",
      "Trying 10 eigenbases:\n",
      "x has shape (60000, 10)\n",
      "End of Model results after 40 epochs:\n",
      "Train Accuracy:  tensor(0.9484)\n",
      "Val Accuracy:  tensor(0.9311)\n",
      "This took 36 second to train\n",
      "\n",
      "Trying 25 eigenbases:\n",
      "x has shape (60000, 25)\n",
      "End of Model results after 40 epochs:\n",
      "Train Accuracy:  tensor(0.9851)\n",
      "Val Accuracy:  tensor(0.9673)\n",
      "This took 41 second to train\n",
      "\n",
      "Trying 50 eigenbases:\n",
      "x has shape (60000, 50)\n",
      "End of Model results after 40 epochs:\n",
      "Train Accuracy:  tensor(0.9913)\n",
      "Val Accuracy:  tensor(0.9749)\n",
      "This took 40 second to train\n",
      "\n",
      "Trying 100 eigenbases:\n",
      "x has shape (60000, 100)\n",
      "End of Model results after 40 epochs:\n",
      "Train Accuracy:  tensor(0.9934)\n",
      "Val Accuracy:  tensor(0.9753)\n",
      "This took 41 second to train\n",
      "\n",
      "Trying 200 eigenbases:\n",
      "x has shape (60000, 200)\n",
      "End of Model results after 40 epochs:\n",
      "Train Accuracy:  tensor(0.9938)\n",
      "Val Accuracy:  tensor(0.9749)\n",
      "This took 41 second to train\n"
     ]
    }
   ],
   "source": [
    "list_of_eig_n_to_try = [1,2,5,10,25,50,100,200]\n",
    "eig_val, eig_vec, cov_matrix = create_eigs(x_flat)\n",
    "\n",
    "for n in list_of_eig_n_to_try:\n",
    "    print(f'\\nTrying {n} eigenbases:')\n",
    "    \n",
    "    projection_eig_dims, projection_prev_dims, P = project_X(eig_vec, x_flat, n)\n",
    "    projection_prev_dims = projection_prev_dims / 255\n",
    "    print(f'x has shape {projection_eig_dims.shape}')\n",
    "    \n",
    "    \n",
    "    #dataset\n",
    "    train_data_eig, val_data_eig = create_dataloaders(projection_eig_dims, y,batch_size=1000)\n",
    "    \n",
    "    #create model with new inputdim\n",
    "    eigenmodel_n = seven_layer_model(inputdim=projection_eig_dims.shape[1])\n",
    "\n",
    "    #acc\n",
    "    accuracy_metric = torchmetrics.Accuracy()\n",
    "    #create optimizer linked to this model\n",
    "    optimizer_eig = torch.optim.Adam(eigenmodel_n.parameters())\n",
    "    time_ = time.time()\n",
    "    train_model(eigenmodel_n,train_data_eig, val_data_eig, criterion, optimizer_eig, accuracy_metric, epochs=41,progress=False)\n",
    "    print(f'This took {int(time.time()-time_)} second to train')"
   ]
  },
  {
   "cell_type": "markdown",
   "metadata": {},
   "source": [
    "----\n",
    "\n",
    "##### Conclusion\n",
    "\n",
    "It's clear that we can achieve the same classification performance from around 50 dimensions. The time to train is slightly unstable, but it appears we can also reduce the training time of the model by around 50% using a lower dimensional representation of the data too.\n",
    "\n"
   ]
  },
  {
   "cell_type": "code",
   "execution_count": null,
   "metadata": {},
   "outputs": [],
   "source": []
  }
 ],
 "metadata": {
  "kernelspec": {
   "display_name": "Python 3",
   "language": "python",
   "name": "python3"
  },
  "language_info": {
   "codemirror_mode": {
    "name": "ipython",
    "version": 3
   },
   "file_extension": ".py",
   "mimetype": "text/x-python",
   "name": "python",
   "nbconvert_exporter": "python",
   "pygments_lexer": "ipython3",
   "version": "3.8.5"
  }
 },
 "nbformat": 4,
 "nbformat_minor": 4
}
